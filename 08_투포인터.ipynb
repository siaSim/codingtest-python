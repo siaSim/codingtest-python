{
  "cells": [
    {
      "cell_type": "code",
      "execution_count": 1,
      "metadata": {
        "ExecuteTime": {
          "end_time": "2019-09-10T04:00:05.497613Z",
          "start_time": "2019-09-10T04:00:05.491632Z"
        },
        "colab": {
          "base_uri": "https://localhost:8080/",
          "height": 17
        },
        "id": "QrKVEECja5Y6",
        "outputId": "6e51eeb3-702c-4b38-f656-1adaa71b2bd5"
      },
      "outputs": [
        {
          "output_type": "display_data",
          "data": {
            "text/plain": [
              "<IPython.core.display.HTML object>"
            ],
            "text/html": [
              "<style>.container { width:100% !important; }</style>"
            ]
          },
          "metadata": {}
        },
        {
          "output_type": "display_data",
          "data": {
            "text/plain": [
              "<IPython.core.display.HTML object>"
            ],
            "text/html": [
              "<style>\n",
              "div.CodeMirror, div.CodeMirror pre, div.CodeMirror-code,\n",
              "div.output_area pre, div.output_wrapper pre,\n",
              ".text_cell_render, .text_cell_render *\n",
              "{ font-family: Consolas; font-size: 15pt; line-height: 140%;}\n",
              "</style>"
            ]
          },
          "metadata": {}
        }
      ],
      "source": [
        "from IPython.display import display, HTML, Markdown\n",
        "display(HTML(\"<style>.container { width:100% !important; }</style>\"))\n",
        "display(HTML(\"\"\"<style>\n",
        "div.CodeMirror, div.CodeMirror pre, div.CodeMirror-code,\n",
        "div.output_area pre, div.output_wrapper pre,\n",
        ".text_cell_render, .text_cell_render *\n",
        "{ font-family: Consolas; font-size: 15pt; line-height: 140%;}\n",
        "</style>\"\"\"))"
      ]
    },
    {
      "cell_type": "markdown",
      "metadata": {
        "id": "nDxaEa_ra5Y9"
      },
      "source": [
        "# 제출 방법\n",
        "\n",
        "1. 파일 이름에서 '이름'을 자신의 이름으로 고쳐서 제출하시오.\n",
        "2. 제출 후 파일을 삭제하시오."
      ]
    },
    {
      "cell_type": "markdown",
      "metadata": {
        "id": "mh70vNSWa5Y-"
      },
      "source": [
        "## 문제1\n",
        "\n",
        "N개의 자연수로 구성된 수열이 있습니다.\n",
        "합이 M인 부분 연속 수열의 개수를 구해보세요.\n",
        "수행 시간 제한은 O(N)입니다.\n",
        "\n",
        "- 파라미터:\n",
        "    - n: 데이터의 개수\n",
        "    - m: 찾고자 하는 부분합\n",
        "    - data: 자연수가 들어 있는 리스트\n",
        "- 리턴: 합이 m인 부분 연속 수열의 개수\n",
        "\n",
        "**결과**\n",
        "```\n",
        "3\n",
        "4\n",
        "```\n"
      ]
    },
    {
      "cell_type": "code",
      "execution_count": 13,
      "metadata": {
        "ExecuteTime": {
          "end_time": "2022-05-16T04:35:28.183094Z",
          "start_time": "2022-05-16T04:35:28.167137Z"
        },
        "colab": {
          "base_uri": "https://localhost:8080/"
        },
        "id": "od9PL4BTa5Y_",
        "outputId": "9766a16a-4242-4b4b-b5a9-f11dec0c0cec"
      },
      "outputs": [
        {
          "output_type": "stream",
          "name": "stdout",
          "text": [
            "3\n",
            "4\n"
          ]
        }
      ],
      "source": [
        "def solution(n, m, data):\n",
        "\n",
        "  # n=5\n",
        "  # m=5\n",
        "  # data=[1,2,3,4,5]\n",
        "\n",
        "  start = 0\n",
        "  end= -1\n",
        "  subsum=0\n",
        "  count=0\n",
        "\n",
        "\n",
        "def solution(n, m, data):\n",
        "    start = 0\n",
        "    end = -1\n",
        "    subsum = 0\n",
        "    count = 0\n",
        "\n",
        "    while True:\n",
        "        if subsum < m:\n",
        "            end += 1\n",
        "            if end >= n:\n",
        "                break\n",
        "            subsum += data[end]\n",
        "        elif subsum >= m:\n",
        "            subsum -= data[start]\n",
        "            start += 1\n",
        "\n",
        "        if subsum == m:\n",
        "            count += 1\n",
        "\n",
        "    return count\n",
        "\n",
        "# 아래는 수정하지 마시오.\n",
        "print(solution(5, 5, [1, 2, 3, 2, 5]))\n",
        "print(solution(8, 4, [1, 2, 1, 3, 1, 1, 1, 2]))\n"
      ]
    },
    {
      "cell_type": "markdown",
      "metadata": {
        "id": "yf1KyiAea5Y_"
      },
      "source": [
        "## 문제2\n",
        "\n",
        "백준 2018번 문제\n",
        "https://www.acmicpc.net/problem/2018\n",
        "\n",
        "어떠한 자연수 N은, 몇 개의 연속된 자연수의 합으로 나타낼 수 있다. 당신은 어떤 자연수 N(1 ≤ N ≤ 10,000,000)에 대해서, 이 N을 몇 개의 연속된 자연수의 합으로 나타내는 가지수를 알고 싶어한다. 이때, 사용하는 자연수는 N이하여야 한다.\n",
        "예를 들어, 15를 나타내는 방법은 15, 7+8, 4+5+6, 1+2+3+4+5의 4가지가 있다. 반면에 10을 나타내는 방법은 10, 1+2+3+4의 2가지가 있다.\n",
        "N을 입력받아 가지수를 출력하는 함수를 작성하시오.\n",
        "\n",
        "**결과**\n",
        "```\n",
        "4\n",
        "```\n"
      ]
    },
    {
      "cell_type": "code",
      "execution_count": 6,
      "metadata": {
        "colab": {
          "base_uri": "https://localhost:8080/"
        },
        "id": "XbTrODIaa5Y_",
        "outputId": "acec5808-bea3-45d6-bfcd-e7207b096e24"
      },
      "outputs": [
        {
          "output_type": "stream",
          "name": "stdout",
          "text": [
            "4\n"
          ]
        }
      ],
      "source": [
        "from io import StringIO\n",
        "import sys\n",
        "input = sys.stdin.readline\n",
        "\n",
        "## 입력 문자열\n",
        "input_str = \\\n",
        "\"\"\"\n",
        "15\n",
        "\"\"\"\n",
        "\n",
        "## 문자열을 스트림으로 바꾸는 방법\n",
        "stream = StringIO(input_str.strip())\n",
        "input = stream.readline\n",
        "\n",
        "## 코드 작성\n",
        "\n",
        "n=int(input())\n",
        "start =1\n",
        "end=1\n",
        "s=1\n",
        "count = 1\n",
        "\n",
        "while end < n:\n",
        "    if s<n:\n",
        "        end +=1\n",
        "        s+=end\n",
        "    elif s > n:\n",
        "        s -= start\n",
        "        start += 1\n",
        "    else:\n",
        "        count +=1\n",
        "        end +=1\n",
        "        s += end\n",
        "print(count)\n"
      ]
    },
    {
      "cell_type": "markdown",
      "metadata": {
        "id": "b6MM7iila5ZA"
      },
      "source": [
        "# 문제3\n",
        "\n",
        "https://www.acmicpc.net/problem/1253\n",
        "\n",
        "위 문제를 풀고 코드를 아래에 붙여넣기 하시오.\n",
        "\n",
        "```\n",
        "N개의 수 중에서 어떤 수가 다른 수 두 개의 합으로 나타낼 수 있다면 그 수를 “좋다(GOOD)”고 한다.\n",
        "\n",
        "N개의 수가 주어지면 그 중에서 좋은 수의 개수는 몇 개인지 출력하라.\n",
        "\n",
        "수의 위치가 다르면 값이 같아도 다른 수이다.\n",
        "\n",
        "입력\n",
        "첫째 줄에는 수의 개수 N(1 ≤ N ≤ 2,000), 두 번째 줄에는 i번째 수를 나타내는 Ai가 N개 주어진다. (|Ai| ≤ 1,000,000,000, Ai는 정수)\n",
        "\n",
        "출력\n",
        "좋은 수의 개수를 첫 번째 줄에 출력한다.\n",
        "```\n",
        "\n",
        "**결과**\n",
        "```\n",
        "8\n",
        "```"
      ]
    },
    {
      "cell_type": "code",
      "execution_count": 18,
      "metadata": {
        "colab": {
          "base_uri": "https://localhost:8080/"
        },
        "id": "XICF2G-da5ZA",
        "outputId": "0e43b217-8074-4047-947a-ea3ceb6b6502"
      },
      "outputs": [
        {
          "output_type": "stream",
          "name": "stdout",
          "text": [
            "8\n"
          ]
        }
      ],
      "source": [
        "from io import StringIO\n",
        "import sys\n",
        "\n",
        "\n",
        "## 입력 문자열\n",
        "input_str = \\\n",
        "\"\"\"\n",
        "10\n",
        "1 2 3 4 5 6 7 8 9 10\n",
        "\"\"\"\n",
        "\n",
        "## 문자열을 스트림으로 바꾸는 방법\n",
        "stream = StringIO(input_str.strip())\n",
        "input = stream.readline\n",
        "\n",
        "## 코드 작성\n",
        "\n",
        "n = int(input())\n",
        "from io import StringIO\n",
        "import sys\n",
        "\n",
        "\n",
        "## 입력 문자열\n",
        "input_str = \\\n",
        "\"\"\"\n",
        "10\n",
        "1 2 3 4 5 6 7 8 9 10\n",
        "\"\"\"\n",
        "\n",
        "## 문자열을 스트림으로 바꾸는 방법\n",
        "stream = StringIO(input_str.strip())\n",
        "input = stream.readline\n",
        "\n",
        "## 코드 작성\n",
        "\n",
        "\n",
        "n = int(input())\n",
        "nums = list(map(int, input().split()))\n",
        "nums.sort()\n",
        "\n",
        "count = 0  # 좋은 수의 개수\n",
        "\n",
        "for k in range(n):\n",
        "    target = nums[k]\n",
        "    i = 0  # 시작점\n",
        "    j = n - 1  # 끝점\n",
        "    while i < j:\n",
        "        # k와 i, j는 서로 달라야 한다.\n",
        "        if i == k:\n",
        "            i += 1\n",
        "            continue\n",
        "        if j == k:\n",
        "            j -= 1\n",
        "            continue\n",
        "        s = nums[i] + nums[j]\n",
        "        if s < target:\n",
        "            i += 1\n",
        "        elif s > target:\n",
        "            j -= 1\n",
        "        else:\n",
        "            count += 1\n",
        "            break\n",
        "\n",
        "print(count)"
      ]
    }
  ],
  "metadata": {
    "kernelspec": {
      "display_name": "Python 3 (ipykernel)",
      "language": "python",
      "name": "python3"
    },
    "language_info": {
      "codemirror_mode": {
        "name": "ipython",
        "version": 3
      },
      "file_extension": ".py",
      "mimetype": "text/x-python",
      "name": "python",
      "nbconvert_exporter": "python",
      "pygments_lexer": "ipython3",
      "version": "3.10.4"
    },
    "colab": {
      "provenance": []
    }
  },
  "nbformat": 4,
  "nbformat_minor": 0
}