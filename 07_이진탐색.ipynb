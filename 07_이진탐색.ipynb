{
  "cells": [
    {
      "cell_type": "code",
      "execution_count": 1,
      "metadata": {
        "ExecuteTime": {
          "end_time": "2023-05-07T01:55:38.367121Z",
          "start_time": "2023-05-07T01:55:38.341162Z"
        },
        "colab": {
          "base_uri": "https://localhost:8080/",
          "height": 17
        },
        "id": "Ley1sP_TWH3a",
        "outputId": "ac585d87-c9bd-45a4-8bf7-c8e2329ee337"
      },
      "outputs": [
        {
          "output_type": "display_data",
          "data": {
            "text/plain": [
              "<IPython.core.display.HTML object>"
            ],
            "text/html": [
              "<style>.container { width:100% !important; }</style>"
            ]
          },
          "metadata": {}
        },
        {
          "output_type": "display_data",
          "data": {
            "text/plain": [
              "<IPython.core.display.HTML object>"
            ],
            "text/html": [
              "<style>\n",
              "div.CodeMirror, div.CodeMirror pre, div.CodeMirror-code,\n",
              "div.output_area pre, div.output_wrapper pre,\n",
              ".text_cell_render, .text_cell_render *\n",
              "{ font-family: Consolas; font-size: 15pt; line-height: 140%;}\n",
              "</style>"
            ]
          },
          "metadata": {}
        }
      ],
      "source": [
        "from IPython.display import display, HTML, Markdown\n",
        "display(HTML(\"<style>.container { width:100% !important; }</style>\"))\n",
        "display(HTML(\"\"\"<style>\n",
        "div.CodeMirror, div.CodeMirror pre, div.CodeMirror-code,\n",
        "div.output_area pre, div.output_wrapper pre,\n",
        ".text_cell_render, .text_cell_render *\n",
        "{ font-family: Consolas; font-size: 15pt; line-height: 140%;}\n",
        "</style>\"\"\"))"
      ]
    },
    {
      "cell_type": "markdown",
      "metadata": {
        "id": "IaBaPkVnWH3d"
      },
      "source": [
        "# 제출 방법\n",
        "\n",
        "1. 파일 이름에서 '이름'을 자신의 이름으로 고쳐서 제출하시오.\n",
        "2. 제출 후 파일을 삭제하시오."
      ]
    },
    {
      "cell_type": "markdown",
      "metadata": {
        "id": "qu9_wOREWH3e"
      },
      "source": [
        "## 문제1\n",
        "\n",
        "bisect_left 함수를 직접구현한 my_bisect_left 함수를 작성하시오.\n",
        "\n",
        "***결과***\n",
        "```\n",
        "1\n",
        "2\n",
        "2\n",
        "```\n"
      ]
    },
    {
      "cell_type": "code",
      "execution_count": 2,
      "metadata": {
        "ExecuteTime": {
          "end_time": "2022-05-09T07:07:17.574939Z",
          "start_time": "2022-05-09T07:07:17.563462Z"
        },
        "colab": {
          "base_uri": "https://localhost:8080/"
        },
        "id": "9qbwK3zXWH3e",
        "outputId": "965dcdd6-e8aa-4555-d679-869b1e4bd766"
      },
      "outputs": [
        {
          "output_type": "stream",
          "name": "stdout",
          "text": [
            "1\n",
            "2\n",
            "2\n"
          ]
        }
      ],
      "source": [
        "def my_bisect_left(nums, target):\n",
        "  start = 0\n",
        "  end = len(nums) -1\n",
        "  result = 0\n",
        "\n",
        "  while start <= end:\n",
        "    mid = (start+end)//2\n",
        "    if nums[mid] <target:\n",
        "      start = mid + 1\n",
        "      result = start\n",
        "    else:\n",
        "      end = mid -1\n",
        "  return result\n",
        "\n",
        "  pass\n",
        "\n",
        "\n",
        "print(my_bisect_left([1], 3))\n",
        "print(my_bisect_left([1,2,3], 3))\n",
        "print(my_bisect_left([1,1,2,2,2,3], 2))\n",
        "\n"
      ]
    },
    {
      "cell_type": "markdown",
      "metadata": {
        "id": "qZzaOgCRWH3e"
      },
      "source": [
        "## 문제2\n",
        "\n",
        "bisect_right 함수를 직접구현한 my_bisect_right 함수를 작성하시오.\n",
        "\n",
        "***결과***\n",
        "```\n",
        "1\n",
        "3\n",
        "5\n",
        "```\n"
      ]
    },
    {
      "cell_type": "code",
      "execution_count": 5,
      "metadata": {
        "ExecuteTime": {
          "end_time": "2022-05-09T06:53:18.976102Z",
          "start_time": "2022-05-09T06:53:18.958419Z"
        },
        "colab": {
          "base_uri": "https://localhost:8080/"
        },
        "id": "treLHcUyWH3e",
        "outputId": "c1bbfa6f-2a42-4d74-d06f-fc861486c688"
      },
      "outputs": [
        {
          "output_type": "stream",
          "name": "stdout",
          "text": [
            "1\n",
            "3\n",
            "5\n"
          ]
        }
      ],
      "source": [
        "def my_bisect_right(nums, target):\n",
        "    start = 0\n",
        "    end = len(nums) - 1\n",
        "    result = 0\n",
        "\n",
        "    while start <= end:\n",
        "        mid = (start + end) // 2\n",
        "        if nums[mid] <= target:\n",
        "            start = mid + 1\n",
        "            result = start\n",
        "        else:\n",
        "            end = mid - 1\n",
        "    return result\n",
        "\n",
        "\n",
        "\n",
        "print(my_bisect_right([1], 3))\n",
        "print(my_bisect_right([1,2,3], 3))\n",
        "print(my_bisect_right([1,1,2,2,2,3], 2))\n",
        "\n"
      ]
    },
    {
      "cell_type": "markdown",
      "metadata": {
        "id": "_jIdZKgIWH3f"
      },
      "source": [
        "## 문제 3\n",
        "\n",
        "출처: https://www.acmicpc.net/problem/2512\n",
        "\n",
        "국가의 역할 중 하나는 여러 지방의 예산요청을 심사하여 국가의 예산을 분배하는 것이다. 국가예산의 총액은 미리 정해져 있어서 모든 예산요청을 배정해 주기는 어려울 수도 있다. 그래서 정해진 총액 이하에서 가능한 한 최대의 총 예산을 다음과 같은 방법으로 배정한다.\n",
        "\n",
        "모든 요청이 배정될 수 있는 경우에는 요청한 금액을 그대로 배정한다.\n",
        "모든 요청이 배정될 수 없는 경우에는 특정한 정수 상한액을 계산하여 그 이상인 예산요청에는 모두 상한액을 배정한다. 상한액 이하의 예산요청에 대해서는 요청한 금액을 그대로 배정한다.\n",
        "예를 들어, 전체 국가예산이 485이고 4개 지방의 예산요청이 각각 120, 110, 140, 150이라고 하자. 이 경우, 상한액을 127로 잡으면, 위의 요청들에 대해서 각각 120, 110, 127, 127을 배정하고 그 합이 484로 가능한 최대가 된다.\n",
        "\n",
        "여러 지방의 예산요청과 국가예산의 총액이 주어졌을 때, 위의 조건을 모두 만족하도록 예산을 배정하는 프로그램을 작성하시오.\n",
        "\n",
        " - 입력\n",
        ">첫째 줄에는 지방의 수를 의미하는 정수 N이 주어진다. N은 3 이상 10,000 이하이다. 다음 줄에는 각 지방의 예산요청을 표현하는 N개의 정수가 빈칸을 사이에 두고 주어진다. 이 값들은 모두 1 이상 100,000 이하이다. 그 다음 줄에는 총 예산을 나타내는 정수 M이 주어진다. M은 N 이상 1,000,000,000 이하이다.\n",
        "\n",
        " - 출력\n",
        ">첫째 줄에는 배정된 예산들 중 최댓값인 정수를 출력한다.\n",
        "\n",
        "\n",
        "***결과***\n",
        "```\n",
        "127\n",
        "100\n",
        "```"
      ]
    },
    {
      "cell_type": "code",
      "execution_count": 9,
      "metadata": {
        "ExecuteTime": {
          "end_time": "2023-05-07T01:56:33.111611Z",
          "start_time": "2023-05-07T01:56:33.096652Z"
        },
        "colab": {
          "base_uri": "https://localhost:8080/"
        },
        "id": "v08fAICEWH3f",
        "outputId": "f4714ffb-75c3-4762-de20-0eaa54969701"
      },
      "outputs": [
        {
          "output_type": "stream",
          "name": "stdout",
          "text": [
            "127\n",
            "100\n"
          ]
        }
      ],
      "source": [
        "from io import StringIO\n",
        "\n",
        "def solution():\n",
        "    n = int(input())  # 지방의 수 입력 받기\n",
        "    demand = list(map(int, input().split()))  # 각 지방의 예산 요청 입력 받기\n",
        "    budget = int(input())  # 총 예산 입력 받기\n",
        "\n",
        "    start = 0\n",
        "    end = max(demand)\n",
        "    result = 0  # 최대 예산 상한액 초기화\n",
        "\n",
        "    while start <= end:\n",
        "        total = 0\n",
        "        mid = (start + end) // 2\n",
        "\n",
        "        for x in demand:\n",
        "            if x <= mid:\n",
        "                total += x\n",
        "            else:\n",
        "                total += mid\n",
        "\n",
        "        if total > budget:\n",
        "            end = mid - 1\n",
        "        else:\n",
        "            start = mid + 1\n",
        "            result = mid\n",
        "\n",
        "    print(result)\n",
        "\n",
        "\n",
        "\n",
        "\n",
        "\n",
        "\n",
        "# 아래는 수정하지 마시오.\n",
        "input_str = \\\n",
        "\"\"\"\n",
        "4\n",
        "120 110 140 150\n",
        "485\n",
        "\"\"\"\n",
        "stream = StringIO(input_str.strip())\n",
        "input = stream.readline\n",
        "solution()\n",
        "\n",
        "input_str = \\\n",
        "\"\"\"\n",
        "5\n",
        "70 80 30 40 100\n",
        "450\n",
        "\"\"\"\n",
        "stream = StringIO(input_str.strip())\n",
        "input = stream.readline\n",
        "solution()"
      ]
    },
    {
      "cell_type": "markdown",
      "metadata": {
        "id": "0zuF5tVoWH3f"
      },
      "source": [
        "## 문제4\n",
        "\n",
        "부루트포스(완전탐색)방법을 이용하여,\n",
        "\n",
        "덧셈을 하여 타겟을 만들 수 있는 배열의 두 숫자 인덱스를 리턴하라.\n",
        "\n",
        "- 제한 사항\n",
        "    - 단 하나의 솔루션이 있다고 가정한다.\n",
        "    - 같은 원소를 두번 사용하지 않는다.\n",
        "    \n",
        "- 파라미터\n",
        "    - nums: 정수를 가지고 있는 정렬되어 있는 리스트\n",
        "- return: 두개의 인덱스값을 가진 튜플 (인덱스 값은 오름차순으로 정렬되어 있음)\n",
        "\n",
        "\n",
        "***결과***\n",
        "```\n",
        "(1, 3)\n",
        "(2, 6)\n",
        "```\n"
      ]
    },
    {
      "cell_type": "code",
      "execution_count": 10,
      "metadata": {
        "ExecuteTime": {
          "end_time": "2023-06-17T00:26:32.732261Z",
          "start_time": "2023-06-17T00:26:32.721291Z"
        },
        "colab": {
          "base_uri": "https://localhost:8080/"
        },
        "id": "zr-GlHSXWH3f",
        "outputId": "185931e4-159c-4893-857e-c8b113dda502"
      },
      "outputs": [
        {
          "output_type": "stream",
          "name": "stdout",
          "text": [
            "(1, 3)\n",
            "(2, 6)\n"
          ]
        }
      ],
      "source": [
        "def find_two_sum1(nums, target):\n",
        "  for i in range(len(nums)):\n",
        "    for j in range(i+1, len(nums)):\n",
        "      if nums[i]+nums[j] == target:\n",
        "        return (i,j)\n",
        "    pass\n",
        "\n",
        "\n",
        "print(find_two_sum1([2, 7, 11, 15], 22))\n",
        "print(find_two_sum1([2, 3, 7, 8, 11, 13, 15, 21, 22], 22))\n"
      ]
    },
    {
      "cell_type": "markdown",
      "metadata": {
        "id": "fpaNyRLnWH3g"
      },
      "source": [
        "## 문제5\n",
        "\n",
        "이진 탐색을 이용하여,\n",
        "\n",
        "덧셈을 하여 타겟을 만들 수 있는 배열의 두 숫자 인덱스를 리턴하라.\n",
        "\n",
        "- 제한 사항\n",
        "    - 단 하나의 솔루션이 있다고 가정한다.\n",
        "    - 같은 원소를 두번 사용하지 않는다.\n",
        "    \n",
        "- 파라미터\n",
        "    - nums: 정수를 가지고 있는 정렬되어 있는 리스트\n",
        "- return: 두개의 인덱스값을 가진 튜플\n",
        "\n",
        "\n",
        "***결과***\n",
        "```\n",
        "(1, 3)\n",
        "(2, 6)\n",
        "```\n"
      ]
    },
    {
      "cell_type": "code",
      "execution_count": 14,
      "metadata": {
        "ExecuteTime": {
          "end_time": "2023-06-17T00:22:37.713331Z",
          "start_time": "2023-06-17T00:22:37.705361Z"
        },
        "colab": {
          "base_uri": "https://localhost:8080/"
        },
        "id": "YbXu_hFQWH3g",
        "outputId": "d03c8825-c295-453b-c930-09555c74d927"
      },
      "outputs": [
        {
          "output_type": "stream",
          "name": "stdout",
          "text": [
            "(1, 3)\n",
            "(2, 6)\n"
          ]
        }
      ],
      "source": [
        "def find_two_sum2(nums, target):\n",
        "  for i in range(len(nums)):\n",
        "    start = i + 1\n",
        "    end = len(nums) - 1\n",
        "    expected = target - nums[i]\n",
        "    while start <= end:\n",
        "      mid = (start+end)//2\n",
        "\n",
        "      if nums[mid] < expected:\n",
        "        start = mid + 1\n",
        "      elif nums[mid] > expected:\n",
        "        end = mid - 1\n",
        "      else:\n",
        "        return (i, mid)\n",
        "    pass\n",
        "\n",
        "print(find_two_sum2([2, 7, 11, 15], 22))\n",
        "print(find_two_sum2([2, 3, 7, 8, 11, 13, 15, 21, 22], 22))"
      ]
    }
  ],
  "metadata": {
    "kernelspec": {
      "display_name": "Python 3 (ipykernel)",
      "language": "python",
      "name": "python3"
    },
    "language_info": {
      "codemirror_mode": {
        "name": "ipython",
        "version": 3
      },
      "file_extension": ".py",
      "mimetype": "text/x-python",
      "name": "python",
      "nbconvert_exporter": "python",
      "pygments_lexer": "ipython3",
      "version": "3.12.3"
    },
    "colab": {
      "provenance": []
    }
  },
  "nbformat": 4,
  "nbformat_minor": 0
}