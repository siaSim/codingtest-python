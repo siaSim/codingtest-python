{
  "cells": [
    {
      "cell_type": "code",
      "execution_count": 1,
      "metadata": {
        "ExecuteTime": {
          "end_time": "2019-09-10T04:00:05.497613Z",
          "start_time": "2019-09-10T04:00:05.491632Z"
        },
        "colab": {
          "base_uri": "https://localhost:8080/",
          "height": 17
        },
        "id": "3cJIUtAE6AAO",
        "outputId": "db3d4cab-685a-47c5-97a6-312b64c4e8d1"
      },
      "outputs": [
        {
          "output_type": "display_data",
          "data": {
            "text/plain": [
              "<IPython.core.display.HTML object>"
            ],
            "text/html": [
              "<style>.container { width:100% !important; }</style>"
            ]
          },
          "metadata": {}
        },
        {
          "output_type": "display_data",
          "data": {
            "text/plain": [
              "<IPython.core.display.HTML object>"
            ],
            "text/html": [
              "<style>\n",
              "div.CodeMirror, div.CodeMirror pre, div.CodeMirror-code,\n",
              "div.output_area pre, div.output_wrapper pre,\n",
              ".text_cell_render, .text_cell_render *\n",
              "{ font-family: Consolas; font-size: 15pt; line-height: 140%;}\n",
              "</style>"
            ]
          },
          "metadata": {}
        }
      ],
      "source": [
        "from IPython.display import display, HTML, Markdown\n",
        "display(HTML(\"<style>.container { width:100% !important; }</style>\"))\n",
        "display(HTML(\"\"\"<style>\n",
        "div.CodeMirror, div.CodeMirror pre, div.CodeMirror-code,\n",
        "div.output_area pre, div.output_wrapper pre,\n",
        ".text_cell_render, .text_cell_render *\n",
        "{ font-family: Consolas; font-size: 15pt; line-height: 140%;}\n",
        "</style>\"\"\"))"
      ]
    },
    {
      "cell_type": "markdown",
      "metadata": {
        "id": "USRHf_GR6AAR"
      },
      "source": [
        "# 파일 이름에서 '이름'을 자신의 이름으로 고치시오.\n",
        "# 제출 후 파일을 삭제하시오."
      ]
    },
    {
      "cell_type": "markdown",
      "metadata": {
        "id": "g7cSZEb76AAT"
      },
      "source": [
        "## 문제1\n",
        "\n",
        "서로 다른 원소를 가지는 리스트를 입력으로 받아서 가능한 모든 순열을 리턴하라.\n",
        "\n",
        "<div><img src=\"attachment:image-2.png\" width=\"400\"/></div>\n",
        "\n",
        "***결과***\n",
        "```\n",
        "[['A', 'B'], ['B', 'A']]\n",
        "[[1, 2, 3], [1, 3, 2], [2, 1, 3], [2, 3, 1], [3, 1, 2], [3, 2, 1]]\n",
        "```\n"
      ]
    },
    {
      "cell_type": "code",
      "source": [
        "items = [1,2,3]\n",
        "done = [4]\n",
        "\n",
        "i = 2\n",
        "\n",
        "print(items[:i]+items[i:])\n",
        "print(done+items[i])\n"
      ],
      "metadata": {
        "colab": {
          "base_uri": "https://localhost:8080/"
        },
        "id": "YVhzg1toFJPP",
        "outputId": "522c60ec-cc94-42aa-f8c8-5b7b67af59ca"
      },
      "execution_count": 4,
      "outputs": [
        {
          "output_type": "stream",
          "name": "stdout",
          "text": [
            "[1, 2]\n"
          ]
        }
      ]
    },
    {
      "cell_type": "code",
      "execution_count": 9,
      "metadata": {
        "ExecuteTime": {
          "end_time": "2022-04-11T06:47:44.624960Z",
          "start_time": "2022-04-11T06:47:44.609032Z"
        },
        "scrolled": true,
        "colab": {
          "base_uri": "https://localhost:8080/"
        },
        "id": "yT0PipsS6AAT",
        "outputId": "9a01216f-965b-4090-b16c-781d6148869e"
      },
      "outputs": [
        {
          "output_type": "stream",
          "name": "stdout",
          "text": [
            "[['A', 'B'], ['B', 'A']]\n",
            "[[1, 2, 3], [1, 3, 2], [2, 1, 3], [2, 3, 1], [3, 1, 2], [3, 2, 1]]\n"
          ]
        }
      ],
      "source": [
        "\n",
        "def permute(items):\n",
        "    results = []\n",
        "    def dfs(items, done):\n",
        "        #items: 아직 처리 하지 못한 원소\n",
        "        #done : 리스트 / 지금 까지 만든 순열\n",
        "\n",
        "        if not items: #items가 비어 있는 경우\n",
        "          results.append(done[:])\n",
        "        else:\n",
        "          for i in range(len(items)):\n",
        "            dfs(items[:i]+items[i+1:], done+[items[i]])\n",
        "\n",
        "    dfs(items, [])\n",
        "    return results\n",
        "\n",
        "\n",
        "print(permute(['A', 'B']))\n",
        "print(permute([1, 2, 3]))\n",
        "\n"
      ]
    },
    {
      "cell_type": "markdown",
      "metadata": {
        "id": "whD8IBSa6AAT"
      },
      "source": [
        "## 문제2\n",
        "\n",
        "모든 부분집합을 리턴하는 함수를 작성하시오.\n",
        "\n",
        "items 에는 모두 다른 원소들이 들어 있다.\n",
        "\n",
        "<div><img src=\"attachment:image.png\" width=\"300\"/></div>\n",
        "\n",
        "\n",
        "***결과***\n",
        "```\n",
        "[[]]\n",
        "[[0], []]\n",
        "[[0, 1], [0], [1], []]\n",
        "[[0, 1, 2], [0, 1], [0, 2], [0], [1, 2], [1], [2], []]\n",
        "```\n"
      ]
    },
    {
      "cell_type": "code",
      "execution_count": 10,
      "metadata": {
        "ExecuteTime": {
          "end_time": "2022-04-11T07:48:51.941587Z",
          "start_time": "2022-04-11T07:48:51.921666Z"
        },
        "colab": {
          "base_uri": "https://localhost:8080/"
        },
        "id": "6J5Yny546AAU",
        "outputId": "b562277d-692a-4158-9517-ae4a94d568e4"
      },
      "outputs": [
        {
          "output_type": "stream",
          "name": "stdout",
          "text": [
            "[[]]\n",
            "[[0], []]\n",
            "[[0, 1], [0], [1], []]\n",
            "[[0, 1, 2], [0, 1], [0, 2], [0], [1, 2], [1], [2], []]\n"
          ]
        }
      ],
      "source": [
        "def subsets(items):\n",
        "    results = []\n",
        "    def dfs(subset, i): # subset에 i부터 마지막 원소까지 처리해서 부분집합을 생성\n",
        "        # i : items의 인덱스\n",
        "        # subset : i-1번째 까지 처리하고 만들어진 부분집합\n",
        "        if i == len(items): # 모두 처리한 경우\n",
        "          results.append(subset[:])\n",
        "        else:\n",
        "          # i번째 원소가 포함 된 경우\n",
        "          dfs(subset + [items[i]] , i+1 )\n",
        "\n",
        "          # i번째 원소가 포함 되지 않는 경우\n",
        "          dfs(subset , i+1)\n",
        "\n",
        "        pass\n",
        "    dfs([], 0)\n",
        "    return results\n",
        "\n",
        "\n",
        "# 아래는 수정하지 마시오.\n",
        "print(subsets([]))\n",
        "print(subsets([0]))\n",
        "print(subsets([0,1]))\n",
        "print(subsets([0,1,2]))\n"
      ]
    },
    {
      "cell_type": "code",
      "source": [
        "#for문으로 풀기\n",
        "def subsets(items):\n",
        "    results = [[]]\n",
        "\n",
        "    for i in items:\n",
        "        for j in range(len(results)):\n",
        "            results.append(results[j]+[i])\n",
        "\n",
        "\n",
        "    return results\n",
        "\n",
        "\n",
        "# 아래는 수정하지 마시오.\n",
        "print(subsets([]))\n",
        "print(subsets([0]))\n",
        "print(subsets([0,1]))\n",
        "print(subsets([0,1,2]))\n"
      ],
      "metadata": {
        "colab": {
          "base_uri": "https://localhost:8080/"
        },
        "id": "ugbXaw-DL_Dn",
        "outputId": "65f99510-7746-46cd-d956-16386b67b839"
      },
      "execution_count": 11,
      "outputs": [
        {
          "output_type": "stream",
          "name": "stdout",
          "text": [
            "[[]]\n",
            "[[], [0]]\n",
            "[[], [0], [1], [0, 1]]\n",
            "[[], [0], [1], [0, 1], [2], [0, 2], [1, 2], [0, 1, 2]]\n"
          ]
        }
      ]
    },
    {
      "cell_type": "markdown",
      "metadata": {
        "id": "qPEwdg856AAU"
      },
      "source": [
        "## 문제3\n",
        "\n",
        "백준 단지번호붙이기 문제\n",
        "https://www.acmicpc.net/problem/2667\n",
        "\n",
        "```\n",
        "<그림 1>과 같이 정사각형 모양의 지도가 있다.\n",
        "1은 집이 있는 곳을, 0은 집이 없는 곳을 나타낸다.\n",
        "철수는 이 지도를 가지고 연결된 집의 모임인 단지를 정의하고, 단지에 번호를 붙이려 한다.\n",
        "여기서 연결되었다는 것은 어떤 집이 좌우, 혹은 아래위로 다른 집이 있는 경우를 말한다.\n",
        "대각선상에 집이 있는 경우는 연결된 것이 아니다.\n",
        "<그림 2>는 <그림 1>을 단지별로 번호를 붙인 것이다.\n",
        "각 단지에 속하는 집의 수를 오름차순으로 정렬하여 출력하는 프로그램을 작성하시오.\n",
        "```\n",
        "\n",
        "![image.png](attachment:image.png)\n",
        "\n",
        "***결과***\n",
        "```\n",
        "[7, 8, 9]\n",
        "```"
      ]
    },
    {
      "cell_type": "code",
      "execution_count": 14,
      "metadata": {
        "ExecuteTime": {
          "end_time": "2022-04-11T07:43:11.876936Z",
          "start_time": "2022-04-11T07:43:11.856934Z"
        },
        "colab": {
          "base_uri": "https://localhost:8080/"
        },
        "id": "q-SPHUNX6AAU",
        "outputId": "50b183f9-0cb0-44b7-fa88-691695bbefc0"
      },
      "outputs": [
        {
          "output_type": "stream",
          "name": "stdout",
          "text": [
            "[7, 8, 9]\n"
          ]
        }
      ],
      "source": [
        "def house_num(map_str):\n",
        "    graph = [list(map(int, k)) for k in map_str.split() if k]\n",
        "    n = len(graph)\n",
        "    visited = [[False]*n for _ in range(n)]\n",
        "    ans = []\n",
        "\n",
        "    def dfs(x, y): # (x, y)를 재귀적으로 방문하여 방문한 집의 개수를 리턴\n",
        "        if (0 <= x <= n-1 and 0<= y <= n-1) and not visited[x][y] and graph[x][y] == 1:\n",
        "            visited[x][y] = True\n",
        "            a = dfs(x,y+1)\n",
        "            b = dfs(x,y-1)\n",
        "            c = dfs(x+1,y)\n",
        "            d = dfs(x-1,y)\n",
        "            return 1 + a + b + c + d\n",
        "        else:\n",
        "          return 0\n",
        "\n",
        "\n",
        "\n",
        "    for x in range(n):\n",
        "        for y in range(n):\n",
        "            size = dfs(x, y)\n",
        "            if size > 0:\n",
        "                ans.append(size)\n",
        "\n",
        "\n",
        "    # 이미 방문했는지 여부 / 도로바깥인지/ ?\n",
        "\n",
        "    return sorted(ans)\n",
        "\n",
        "map_str = \"\"\"\n",
        "0110100\n",
        "0110101\n",
        "1110101\n",
        "0000111\n",
        "0100000\n",
        "0111110\n",
        "0111000\n",
        "\"\"\"\n",
        "\n",
        "print(house_num(map_str))"
      ]
    }
  ],
  "metadata": {
    "kernelspec": {
      "display_name": "Python 3 (ipykernel)",
      "language": "python",
      "name": "python3"
    },
    "language_info": {
      "codemirror_mode": {
        "name": "ipython",
        "version": 3
      },
      "file_extension": ".py",
      "mimetype": "text/x-python",
      "name": "python",
      "nbconvert_exporter": "python",
      "pygments_lexer": "ipython3",
      "version": "3.9.13"
    },
    "colab": {
      "provenance": []
    }
  },
  "nbformat": 4,
  "nbformat_minor": 0
}