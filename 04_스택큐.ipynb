{
  "cells": [
    {
      "cell_type": "code",
      "execution_count": 1,
      "metadata": {
        "ExecuteTime": {
          "end_time": "2023-03-31T11:30:23.080549Z",
          "start_time": "2023-03-31T11:30:23.057582Z"
        },
        "colab": {
          "base_uri": "https://localhost:8080/",
          "height": 17
        },
        "id": "1e2lLdtO8mJe",
        "outputId": "54cfc129-8894-4076-ebe0-254c018050fa"
      },
      "outputs": [
        {
          "output_type": "display_data",
          "data": {
            "text/plain": [
              "<IPython.core.display.HTML object>"
            ],
            "text/html": [
              "<style>.container { width:100% !important; }</style>"
            ]
          },
          "metadata": {}
        },
        {
          "output_type": "display_data",
          "data": {
            "text/plain": [
              "<IPython.core.display.HTML object>"
            ],
            "text/html": [
              "<style>\n",
              "div.CodeMirror, div.CodeMirror pre, div.CodeMirror-code,\n",
              "div.output_area pre, div.output_wrapper pre,\n",
              ".text_cell_render, .text_cell_render *\n",
              "{ font-family: Consolas; font-size: 15pt; line-height: 140%;}\n",
              "</style>"
            ]
          },
          "metadata": {}
        }
      ],
      "source": [
        "from IPython.display import display, HTML, Markdown\n",
        "display(HTML(\"<style>.container { width:100% !important; }</style>\"))\n",
        "display(HTML(\"\"\"<style>\n",
        "div.CodeMirror, div.CodeMirror pre, div.CodeMirror-code,\n",
        "div.output_area pre, div.output_wrapper pre,\n",
        ".text_cell_render, .text_cell_render *\n",
        "{ font-family: Consolas; font-size: 15pt; line-height: 140%;}\n",
        "</style>\"\"\"))"
      ]
    },
    {
      "cell_type": "markdown",
      "metadata": {
        "id": "O6TBhDMT8mJg"
      },
      "source": [
        "# 파일 이름에서 '이름'을 자신의 이름으로 고치시오.\n",
        "# 제출 후 파일을 삭제하시오."
      ]
    },
    {
      "cell_type": "markdown",
      "metadata": {
        "id": "--tuAqp48mJh"
      },
      "source": [
        "## 문제1\n",
        "\n",
        "연속적으로 두번 중복된 문자 제거 문제\n",
        "\n",
        "주어진 입력 s에 대하여, 연속적으로 같은 문자가 오는 경우에는 연속된 두 문자들을 문자열에서 제거하시오. 최종적으로 러턴할 문자열에는 연속된 문자들이 없어야 한다.\n",
        "\n",
        "예) \"abbac\" 가 주어진 경우 \"bb\"가 연속된문자열이기 때문에 제거하면 \"aac\"가 된고, 다시 \"aa\"가 연속된 문자열이기 때문에 제거하여 최종적으로 \"c\" 문자열만 남게된다.\n",
        "\n",
        "주의) O(N) 시간에 풀리도록 하시오.\n",
        "\n",
        "***결과***\n",
        "```\n",
        "ca\n",
        "b\n",
        "bc\n",
        "```\n"
      ]
    },
    {
      "cell_type": "code",
      "execution_count": 10,
      "metadata": {
        "colab": {
          "base_uri": "https://localhost:8080/"
        },
        "id": "GnxUgKL48mJh",
        "outputId": "8a6b3152-717a-49f6-8932-eadd502a98cd"
      },
      "outputs": [
        {
          "output_type": "stream",
          "name": "stdout",
          "text": [
            "ca\n",
            "b\n",
            "bc\n"
          ]
        }
      ],
      "source": [
        "def remove_dups(s):\n",
        "    stack = []\n",
        "    for i in s: #i는 지금 처리해야하는 문자열\n",
        "        # if stack and i == stack[-1]:\n",
        "        if stack and stack[-1] == i: #스택에 최근에 들어있는 것과 중복인경우\n",
        "            stack.pop()\n",
        "        else: #중복이 아닌경우\n",
        "            stack.append(i)\n",
        "    return \"\".join(stack) #join을 써야 배열안의 값만 나옴\n",
        "\n",
        "print(remove_dups(\"caaa\"))\n",
        "print(remove_dups(\"accab\"))\n",
        "print(remove_dups(\"baccaaac\"))"
      ]
    },
    {
      "cell_type": "markdown",
      "metadata": {
        "id": "rQiFU9k88mJi"
      },
      "source": [
        "## 문제2 - 보너스문제(최상급 난이도)\n",
        "\n",
        "빗물 트래핑 문제\n",
        "\n",
        "높이를 입력받아 비 온 후 얼마나 많은 물이 쌓일 수 있는지 계산하라.\n",
        "\n",
        "스택을 사용하여 O(n)에 구현하시오.\n",
        "\n",
        "- 입력 예\n",
        "    - [0,1,0,2,1,0,1,3,2,1,2,1]\n",
        "- 출력 예\n",
        "    - 6\n",
        "    \n",
        "![image.png](attachment:image.png)\n",
        "\n",
        "- 알고리즘\n",
        "    1. 웅덩이가 생기기 위해서는 왼쪽기둥, 오른쪽기둥, 바닥이 필요\n",
        "    1. 스택에는 아직 처리하지 못한 왼쪽기둥(바닥)이 들어간다.\n",
        "    1. 모든 기둥들을 순서대로 읽어 온다.\n",
        "        1. 새롭게 읽은 기둥의 높이가 스택의 탑에 있는 기둥보다 높으면 웅덩이가 생긴다.\n",
        "            2. 왼쪽 기둥의 높이와 위치를 가져와서 현재 물웅덩이를 계산\n",
        "            3. 전체 물웅덩이 값을 업데이트\n",
        "        3. 스택에 기둥을 넣는다.\n",
        "\n",
        "![image-2.png](attachment:image-2.png)\n",
        "***결과***\n",
        "```\n",
        "6\n",
        "17\n",
        "```\n"
      ]
    },
    {
      "cell_type": "code",
      "execution_count": 17,
      "metadata": {
        "ExecuteTime": {
          "end_time": "2023-03-31T11:46:02.160946Z",
          "start_time": "2023-03-31T11:46:02.140827Z"
        },
        "colab": {
          "base_uri": "https://localhost:8080/"
        },
        "id": "3MAQizZf8mJi",
        "outputId": "3b4df99a-3d91-4cec-adea-c9a399193e20"
      },
      "outputs": [
        {
          "output_type": "stream",
          "name": "stdout",
          "text": [
            "6\n",
            "17\n"
          ]
        }
      ],
      "source": [
        "def rain_trap(heights):\n",
        "    stack = []  # 스택 초기화\n",
        "    volume = 0  # 물이 차는 양을 저장할 변수\n",
        "\n",
        "    for i in range(len(heights)):\n",
        "        # i :  기둥번호\n",
        "        # 스택이 비어있지 않고 현재 기둥의 높이가 스택의 탑의 높이보다 크면 웅덩이가 생길 수 있음\n",
        "        while stack and heights[stack[-1]] < heights[i]:\n",
        "            # 물이 고일 수 있다.\n",
        "            # 스택에서 이전 기둥을 꺼냄\n",
        "            b = stack.pop()\n",
        "\n",
        "            # 왼쪽기둥\n",
        "            if not stack:  # 스택이 비어있다면 현재 기둥의 왼쪽에는 더 이상 기둥이 없음\n",
        "                break\n",
        "            left = stack[-1]\n",
        "            if heights[left] == heights[b]:\n",
        "                continue\n",
        "\n",
        "            # 오른쪽기둥\n",
        "            right = i\n",
        "\n",
        "            # 현재 기둥과 이전 기둥 중 더 낮은 높이를 선택하여 물의 높이로 사용\n",
        "            #너비\n",
        "            w = right - left - 1\n",
        "\n",
        "            #깊이\n",
        "            d = min(heights[left], heights[right]) - heights[b]\n",
        "\n",
        "            # 물이 차는 양을 더함\n",
        "            volume += w * d\n",
        "\n",
        "        # 현재 기둥의 인덱스를 스택에 추가\n",
        "        stack.append(i)\n",
        "\n",
        "    return volume\n",
        "\n",
        "\n",
        "\n",
        "# 테스트를 위한 입력과 출력\n",
        "print(rain_trap([0,1,0,2,1,0,1,3,2,1,2,1]))  # 출력: 6\n",
        "print(rain_trap([0,4,0,0,0,0,1,0,3]))  # 출력: 17"
      ]
    },
    {
      "cell_type": "markdown",
      "metadata": {
        "id": "2CXLtBZY8mJi"
      },
      "source": [
        "## 문제3\n",
        "\n",
        "프린터 문제\n",
        "\n",
        "일반적인 프린터는 인쇄 요청이 들어온 순서대로 인쇄합니다. 그렇기 때문에 중요한 문서가 나중에 인쇄될 수 있습니다. 이런 문제를 보완하기 위해 중요도가 높은 문서를 먼저 인쇄하는 프린터를 개발했습니다. 이 새롭게 개발한 프린터는 아래와 같은 방식으로 인쇄 작업을 수행합니다.\n",
        "\n",
        "1. 인쇄 대기목록의 가장 앞에 있는 문서(J)를 대기목록에서 꺼냅니다.\n",
        "2. 나머지 인쇄 대기목록에서 J보다 중요도가 높은 문서가 한 개라도 존재하면 J를 대기목록의 가장 마지막에 넣습니다.\n",
        "3. 그렇지 않으면 J를 인쇄합니다.\n",
        "\n",
        "예를 들어, 4개의 문서(A, B, C, D)가 순서대로 인쇄 대기목록에 있고 중요도가 2 1 3 2 라면 C D A B 순으로 인쇄하게 됩니다.\n",
        "\n",
        "내가 인쇄를 요청한 문서가 몇 번째로 인쇄되는지 알고 싶습니다. 위의 예에서 C는 1번째로, A는 3번째로 인쇄됩니다.\n",
        "\n",
        "현재 대기목록에 있는 문서의 중요도가 순서대로 담긴 배열 priorities와 내가 인쇄를 요청한 문서가 현재 대기목록의 어떤 위치에 있는지를 알려주는 location이 매개변수로 주어질 때, 내가 인쇄를 요청한 문서가 몇 번째로 인쇄되는지 return 하도록 함수를 작성해주세요.\n",
        "\n",
        "***결과***\n",
        "```\n",
        "1\n",
        "4\n",
        "2\n",
        "5\n",
        "````\n"
      ]
    },
    {
      "cell_type": "code",
      "execution_count": 21,
      "metadata": {
        "ExecuteTime": {
          "end_time": "2022-04-03T15:07:31.496821Z",
          "start_time": "2022-04-03T15:07:31.481429Z"
        },
        "colab": {
          "base_uri": "https://localhost:8080/"
        },
        "id": "qpCe1yxp8mJi",
        "outputId": "430003cd-e176-41df-963d-d8de055b91cb"
      },
      "outputs": [
        {
          "output_type": "stream",
          "name": "stdout",
          "text": [
            "1\n",
            "4\n",
            "2\n",
            "5\n"
          ]
        }
      ],
      "source": [
        "from collections import deque\n",
        "\n",
        "def printer_order(priorities, location):\n",
        "    queue = deque([(i,p) for i,p in enumerate(priorities)])\n",
        "    sorted_p = sorted(priorities)  # 중요도가 높은 순으로 정렬\n",
        "    answer = 0\n",
        "\n",
        "    while queue:\n",
        "      i, p = queue.popleft()\n",
        "      if p < sorted_p[-1]: #우선순위가 낮아 뒤로 보내기\n",
        "        queue.append((i, p))\n",
        "      else: # 문서출력\n",
        "        answer += 1\n",
        "        sorted_p.pop()\n",
        "        if i == location:\n",
        "            return answer\n",
        "\n",
        "\n",
        "\n",
        "# 테스트를 위한 입력과 출력\n",
        "print(printer_order([2, 1, 3, 2], 2))  # 출력: 1\n",
        "print(printer_order([2, 1, 3, 2], 1))  # 출력: 4\n",
        "print(printer_order([2, 1, 3, 2], 3))  # 출력: 2\n",
        "print(printer_order([1, 1, 9, 1, 1, 1], 0))  # 출력: 5\n",
        "\n"
      ]
    }
  ],
  "metadata": {
    "kernelspec": {
      "display_name": "Python 3 (ipykernel)",
      "language": "python",
      "name": "python3"
    },
    "language_info": {
      "codemirror_mode": {
        "name": "ipython",
        "version": 3
      },
      "file_extension": ".py",
      "mimetype": "text/x-python",
      "name": "python",
      "nbconvert_exporter": "python",
      "pygments_lexer": "ipython3",
      "version": "3.9.13"
    },
    "colab": {
      "provenance": []
    }
  },
  "nbformat": 4,
  "nbformat_minor": 0
}