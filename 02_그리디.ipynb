{
  "cells": [
    {
      "cell_type": "code",
      "execution_count": 3,
      "metadata": {
        "ExecuteTime": {
          "end_time": "2019-09-10T04:00:05.497613Z",
          "start_time": "2019-09-10T04:00:05.491632Z"
        },
        "colab": {
          "base_uri": "https://localhost:8080/",
          "height": 17
        },
        "id": "ty9iuNWW5SBi",
        "outputId": "50d25885-9b09-409f-f785-142511da0e84"
      },
      "outputs": [
        {
          "output_type": "display_data",
          "data": {
            "text/plain": [
              "<IPython.core.display.HTML object>"
            ],
            "text/html": [
              "<style>.container { width:100% !important; }</style>"
            ]
          },
          "metadata": {}
        },
        {
          "output_type": "display_data",
          "data": {
            "text/plain": [
              "<IPython.core.display.HTML object>"
            ],
            "text/html": [
              "<style>\n",
              "div.CodeMirror, div.CodeMirror pre, div.CodeMirror-code,\n",
              "div.output_area pre, div.output_wrapper pre,\n",
              ".text_cell_render, .text_cell_render *\n",
              "{ font-family: Consolas; font-size: 15pt; line-height: 140%;}\n",
              "</style>"
            ]
          },
          "metadata": {}
        }
      ],
      "source": [
        "from IPython.display import display, HTML, Markdown\n",
        "display(HTML(\"<style>.container { width:100% !important; }</style>\"))\n",
        "display(HTML(\"\"\"<style>\n",
        "div.CodeMirror, div.CodeMirror pre, div.CodeMirror-code,\n",
        "div.output_area pre, div.output_wrapper pre,\n",
        ".text_cell_render, .text_cell_render *\n",
        "{ font-family: Consolas; font-size: 15pt; line-height: 140%;}\n",
        "</style>\"\"\"))"
      ]
    },
    {
      "cell_type": "markdown",
      "metadata": {
        "id": "26onL3Tp5SBl"
      },
      "source": [
        "# 파일 이름에서 '학번'을 자신의 학번으로, '이름'을 자신의 이름으로 고치시오."
      ]
    },
    {
      "cell_type": "markdown",
      "metadata": {
        "id": "xOZxAOJa5SBm"
      },
      "source": [
        "## 문제1\n",
        "\n",
        "1이 될 때 까지\n",
        "\n",
        "어떠한 수 N이 1이 될 때까지 다음의 두 과정 중 하나를 반복적으로 선택하여 수행하려고 합니다. 단, 두 번째 연산은 N이 K로 나누어 떨어질 때만 선택할 수 있습니다.\n",
        "- N에서 1을 뺍니다.\n",
        "- N을 K로 나눕니다.\n",
        "\n",
        "N과 K가 주어질 때 N이 1이 될 때까지 1번 혹은 2번의 과정을 수행해야 하는 최소 횟수를 구하는 프로그램을 작성하세요.\n",
        "\n",
        "***결과***\n",
        "```\n",
        "6\n",
        "```\n",
        "\n"
      ]
    },
    {
      "cell_type": "code",
      "execution_count": 4,
      "metadata": {
        "colab": {
          "base_uri": "https://localhost:8080/"
        },
        "id": "Hs-Heim85SBn",
        "outputId": "879b618d-ced7-4e41-9cb6-4bc3f0698e9e"
      },
      "outputs": [
        {
          "output_type": "stream",
          "name": "stdout",
          "text": [
            "6\n"
          ]
        }
      ],
      "source": [
        "from io import StringIO\n",
        "\n",
        "## 입력 문자열\n",
        "input_str = \\\n",
        "\"\"\"\n",
        "25 2\n",
        "\"\"\"\n",
        "\n",
        "## 문자열을 스트림으로 바꾸는 방법\n",
        "stream = StringIO(input_str.strip())\n",
        "input = stream.readline\n",
        "\n",
        "## 아래에 코드 작성\n",
        "\n",
        "n, k = map(int, input().split())\n",
        "\n",
        "result = 0\n",
        "\n",
        "while n>1:\n",
        "  if n%k ==0:\n",
        "    n= n/k\n",
        "  else:\n",
        "    n-=1\n",
        "  result +=1\n",
        "\n",
        "print(result)"
      ]
    },
    {
      "cell_type": "markdown",
      "metadata": {
        "id": "VglzYMWb5SBn"
      },
      "source": [
        "## 문제2\n",
        "\n",
        "곱하기 혹은 더하기\n",
        "\n",
        "각 자리가 숫자(0부터 9)로만 이루어진 문자열 S가 주어졌을 때, 왼쪽부터 오른쪽으로 하나씩 모든 숫자를 확인하며 숫자 사이에 ‘×’ 혹은 ‘+’ 연산자를 넣어 결과적으로 만들어질 수 있는 가장 큰 수를 구하는 프로그램을 작성하세요.\n",
        "단, +보다 ×를 먼저 계산하는 일반적인 방식과는 달리, 모든 연산은 왼쪽에서부터 순서대로 이루어진다고 가정합니다.\n",
        "\n",
        "예를 들어 02984라는 문자열로 만들 수 있는 가장 큰 수는 ((((0 + 2) × 9) × 8) × 4) = 576입니다.\n",
        "또한 만들어질 수 있는 가장 큰 수는 항상 20억 이하의 정수가 되도록 입력이 주어집니다.\n",
        "\n",
        "***결과***\n",
        "```\n",
        "576\n",
        "```\n"
      ]
    },
    {
      "cell_type": "code",
      "execution_count": 5,
      "metadata": {
        "colab": {
          "base_uri": "https://localhost:8080/"
        },
        "id": "T93b-_ro5SBn",
        "outputId": "2bebae83-c03f-4042-83ca-e052c1df0819"
      },
      "outputs": [
        {
          "output_type": "stream",
          "name": "stdout",
          "text": [
            "576\n"
          ]
        }
      ],
      "source": [
        "from io import StringIO\n",
        "\n",
        "## 입력 문자열\n",
        "input_str = \\\n",
        "\"\"\"\n",
        "02984\n",
        "\"\"\"\n",
        "\n",
        "## 문자열을 스트림으로 바꾸는 방법\n",
        "stream = StringIO(input_str.strip())\n",
        "input = stream.readline\n",
        "\n",
        "## 아래에 코드 작성\n",
        "data = input()\n",
        "result = int(data[0])\n",
        "\n",
        "for i in range(1, len(data)):\n",
        "  # 두 수 중에서 하나라도 '0' 혹은 '1'인 경우, 곱하기보다는 더하기 수행\n",
        "  num = int(data[i])\n",
        "  if num <= 1 or result <= 1:\n",
        "    result += num\n",
        "  else:\n",
        "    result *= num\n",
        "\n",
        "print(result)\n"
      ]
    },
    {
      "cell_type": "markdown",
      "metadata": {
        "id": "vY_ZP5de5SBo"
      },
      "source": [
        "## 문제3\n",
        "\n",
        "모험가 길드\n",
        "\n",
        "- 한 마을에 모험가가 N명 있습니다. 모험가 길드에서는 N명의 모험가를 대상으로 ‘공포도’를 측정했는데, ‘공포도’가 높은 모험가는 쉽게 공포를 느껴 위험 상황에서 제대로 대처할 능력이 떨어집니다.\n",
        "- 모험가 길드장인 동빈이는 모험가 그룹을 안전하게 구성하고자 공포도가 X인 모험가는 반드시 X명 이상으로 구성한 모험가 그룹에 참여해야 여행을 떠날 수 있도록 규정했습니다.\n",
        "- 동빈이는 최대 몇 개의 모험가 그룹을 만들 수 있는지 궁금합니다. N명의 모험가에 대한 정보가 주어졌을 때, 여행을 떠날 수 있는 그룹 수의 최댓값을 구하는 프로그램을 작성하세요.\n",
        "\n",
        "***결과***\n",
        "```\n",
        "2\n",
        "```\n",
        "\n"
      ]
    },
    {
      "cell_type": "code",
      "execution_count": 6,
      "metadata": {
        "colab": {
          "base_uri": "https://localhost:8080/"
        },
        "id": "iSi50Pat5SBo",
        "outputId": "f3d65f74-faa2-42b2-c6d7-8704944003cc"
      },
      "outputs": [
        {
          "output_type": "stream",
          "name": "stdout",
          "text": [
            "2\n"
          ]
        }
      ],
      "source": [
        "from io import StringIO\n",
        "\n",
        "## 입력 문자열\n",
        "input_str = \\\n",
        "\"\"\"\n",
        "5\n",
        "2 3 1 2 2\n",
        "\"\"\"\n",
        "\n",
        "## 문자열을 스트림으로 바꾸는 방법\n",
        "stream = StringIO(input_str.strip())\n",
        "input = stream.readline\n",
        "\n",
        "## 아래에 코드 작성\n",
        "\n",
        "n = int(input())\n",
        "data = list(map(int, input().split()))\n",
        "data.sort()\n",
        "\n",
        "result = 0\n",
        "count = 0\n",
        "\n",
        "for i in data:\n",
        "  count +=1\n",
        "  if count >= i:\n",
        "    result +=1\n",
        "    count =0\n",
        "\n",
        "print(result)"
      ]
    },
    {
      "cell_type": "markdown",
      "metadata": {
        "id": "1PIoWMG25SBp"
      },
      "source": [
        "## 문제4\n",
        "\n",
        "파라미터 prices는 주식 가격을 시간순으로 가지고 있는 리스트이다.\n",
        "주식 매매를 통해서 가질 수 있는 최대 이득을 리턴하는 함수를 구현하시오.\n",
        "\n",
        "***결과***\n",
        "```\n",
        "7\n",
        "```\n"
      ]
    },
    {
      "cell_type": "code",
      "execution_count": 7,
      "metadata": {
        "ExecuteTime": {
          "end_time": "2022-03-21T07:11:18.235741Z",
          "start_time": "2022-03-21T07:11:18.225767Z"
        },
        "scrolled": true,
        "colab": {
          "base_uri": "https://localhost:8080/"
        },
        "id": "NJIITpqH5SBp",
        "outputId": "5a09278f-9186-4834-899e-a24bc5909cd8"
      },
      "outputs": [
        {
          "output_type": "stream",
          "name": "stdout",
          "text": [
            "7\n"
          ]
        }
      ],
      "source": [
        "def maxProfit(prices):\n",
        "  r = 0\n",
        "  for i in range(1, len(prices)):\n",
        "    gain = prices[i] - prices[i-1]\n",
        "    if gain>0:\n",
        "      r += gain\n",
        "\n",
        "  return r\n",
        "  pass\n",
        "\n",
        "# 아래는 수정하지 마시오.\n",
        "prices01 = [7,1,5,3,6,4]\n",
        "print(maxProfit(prices01))"
      ]
    },
    {
      "cell_type": "markdown",
      "metadata": {
        "id": "mTsCHRcz5SBp"
      },
      "source": [
        "## 문제5\n",
        "\n",
        "1. 아이들 마다 쿠키를 1개씩 나누어 주려고 한다.\n",
        "1. 아이들은 각자 만족하는 쿠키의 최소 크기가 정해져 있다.\n",
        "1. 최대한 많은 아이들을 만족시키고 싶다.\n",
        "\n",
        "파라미티:\n",
        "- g: 아이들이 만족하는 최소 쿠키 크기를 담은 리스트\n",
        "- s: 쿠키들의 크기를 담은 리스트\n",
        "- return : 최대로 만족한 아이들의 수\n",
        "\n",
        "***결과***\n",
        "```\n",
        "1\n",
        "2\n",
        "2\n",
        "```\n"
      ]
    },
    {
      "cell_type": "code",
      "execution_count": 2,
      "metadata": {
        "ExecuteTime": {
          "end_time": "2022-03-21T07:26:08.373750Z",
          "start_time": "2022-03-21T07:26:08.363777Z"
        },
        "scrolled": true,
        "id": "VuquNJ5R5SBp",
        "colab": {
          "base_uri": "https://localhost:8080/"
        },
        "outputId": "8aae1e15-a3fa-4e07-e941-23bcf5ce8541"
      },
      "outputs": [
        {
          "output_type": "stream",
          "name": "stdout",
          "text": [
            "1\n",
            "2\n",
            "2\n"
          ]
        }
      ],
      "source": [
        "# 투포인트 문제\n",
        "def findContentChildren(g, s):\n",
        "    g.sort()\n",
        "    s.sort()\n",
        "    r = 0\n",
        "\n",
        "    i = 0 # 아이 인덱스\n",
        "    j = 0 # 쿠키 인덱스\n",
        "\n",
        "    while i < len(g) and j < len(s):\n",
        "        if g[i]<= s[j]: # i가 j를 만족\n",
        "          r += 1\n",
        "          i += 1\n",
        "        j += 1\n",
        "\n",
        "    return r\n",
        "\n",
        "# 아래는 수정하지 마시오.\n",
        "print(findContentChildren([1,2,3], [1,1]))\n",
        "print(findContentChildren([1,2], [1,2,3]))\n",
        "print(findContentChildren([2,3,4], [1,5,3,1]))"
      ]
    }
  ],
  "metadata": {
    "kernelspec": {
      "display_name": "Python 3 (ipykernel)",
      "language": "python",
      "name": "python3"
    },
    "language_info": {
      "codemirror_mode": {
        "name": "ipython",
        "version": 3
      },
      "file_extension": ".py",
      "mimetype": "text/x-python",
      "name": "python",
      "nbconvert_exporter": "python",
      "pygments_lexer": "ipython3",
      "version": "3.9.13"
    },
    "colab": {
      "provenance": []
    }
  },
  "nbformat": 4,
  "nbformat_minor": 0
}