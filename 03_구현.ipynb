{
  "cells": [
    {
      "cell_type": "code",
      "execution_count": 2,
      "metadata": {
        "ExecuteTime": {
          "end_time": "2019-09-10T04:00:05.497613Z",
          "start_time": "2019-09-10T04:00:05.491632Z"
        },
        "colab": {
          "base_uri": "https://localhost:8080/",
          "height": 17
        },
        "id": "mmI_UIn46IW9",
        "outputId": "220b1dba-fe1b-474c-a3cc-5cd91f7ef86b"
      },
      "outputs": [
        {
          "output_type": "display_data",
          "data": {
            "text/plain": [
              "<IPython.core.display.HTML object>"
            ],
            "text/html": [
              "<style>.container { width:100% !important; }</style>"
            ]
          },
          "metadata": {}
        },
        {
          "output_type": "display_data",
          "data": {
            "text/plain": [
              "<IPython.core.display.HTML object>"
            ],
            "text/html": [
              "<style>\n",
              "div.CodeMirror, div.CodeMirror pre, div.CodeMirror-code,\n",
              "div.output_area pre, div.output_wrapper pre,\n",
              ".text_cell_render, .text_cell_render *\n",
              "{ font-family: Consolas; font-size: 15pt; line-height: 140%;}\n",
              "</style>"
            ]
          },
          "metadata": {}
        }
      ],
      "source": [
        "from IPython.display import display, HTML, Markdown\n",
        "display(HTML(\"<style>.container { width:100% !important; }</style>\"))\n",
        "display(HTML(\"\"\"<style>\n",
        "div.CodeMirror, div.CodeMirror pre, div.CodeMirror-code,\n",
        "div.output_area pre, div.output_wrapper pre,\n",
        ".text_cell_render, .text_cell_render *\n",
        "{ font-family: Consolas; font-size: 15pt; line-height: 140%;}\n",
        "</style>\"\"\"))"
      ]
    },
    {
      "cell_type": "markdown",
      "metadata": {
        "id": "mc5orWsE6IXA"
      },
      "source": [
        "# 파일 이름에서 '학번'을 자신의 학번으로, '이름'을 자신의 이름으로 고치시오."
      ]
    },
    {
      "cell_type": "markdown",
      "metadata": {
        "id": "7sUc9gh46IXB"
      },
      "source": [
        "## 문제1\n",
        "\n",
        "아래와 같이 출력하는 코드를 완성하시오.\n",
        "\n",
        "\n",
        "***결과***\n",
        "```\n",
        "(0, 0) (0, 1) (0, 2) (0, 3) (0, 4)\n",
        "(1, 0) (1, 1) (1, 2) (1, 3) (1, 4)\n",
        "(2, 0) (2, 1) (2, 2) (2, 3) (2, 4)\n",
        "(3, 0) (3, 1) (3, 2) (3, 3) (3, 4)\n",
        "```\n"
      ]
    },
    {
      "cell_type": "code",
      "execution_count": 5,
      "metadata": {
        "ExecuteTime": {
          "end_time": "2022-03-28T04:56:04.761265Z",
          "start_time": "2022-03-28T04:56:04.754283Z"
        },
        "colab": {
          "base_uri": "https://localhost:8080/"
        },
        "id": "WWd19iuZ6IXC",
        "outputId": "7db3b009-99e3-4552-dbb3-c6a13e47f20d"
      },
      "outputs": [
        {
          "output_type": "stream",
          "name": "stdout",
          "text": [
            "( 0 , 0 )( 0 , 1 )( 0 , 2 )( 0 , 3 )( 0 , 4 )\n",
            "( 1 , 0 )( 1 , 1 )( 1 , 2 )( 1 , 3 )( 1 , 4 )\n",
            "( 2 , 0 )( 2 , 1 )( 2 , 2 )( 2 , 3 )( 2 , 4 )\n",
            "( 3 , 0 )( 3 , 1 )( 3 , 2 )( 3 , 3 )( 3 , 4 )\n"
          ]
        }
      ],
      "source": [
        "for i in range(4):\n",
        "  for j in range(5):\n",
        "    print('(',i,',',j,')', end='')\n",
        "  print()"
      ]
    },
    {
      "cell_type": "markdown",
      "metadata": {
        "id": "t5pKvQEV6IXC"
      },
      "source": [
        "## 문제2\n",
        "\n",
        "```\n",
        "  여행가 A는 N × N 크기의 정사각형 공간 위에 서 있습니다. 이 공간은 1 × 1 크기의 정사각형으로 나누어져 있습니다. 가장 왼쪽 위 좌표는 (1, 1)이며, 가장 오른쪽 아래 좌표는 (N, N)에 해당합니다. 여행가 A는 상, 하, 좌, 우 방향으로 이동할 수 있으며, 시작 좌표는 항상 (1, 1)입니다. 우리 앞에는 여행가 A가 이동할 계획이 적힌 계획서가 놓여 있습니다.\n",
        "\n",
        "  계획서에는 하나의 줄에 띄어쓰기를 기준으로 하여 L, R, U, D 중 하나의 문자가 반복적으로 적혀 있습니다. 각 문자의 의미는 다음과 같습니다.\n",
        "\n",
        "L: 왼쪽으로 한 칸 이동\n",
        "R: 오른쪽으로 한 칸 이동\n",
        "U: 위로 한 칸 이동\n",
        "D: 아래로 한 칸 이동\n",
        "```\n",
        "\n",
        "***결과***\n",
        "```\n",
        "1 2\n",
        "3 4\n",
        "```"
      ]
    },
    {
      "cell_type": "code",
      "execution_count": 8,
      "metadata": {
        "ExecuteTime": {
          "end_time": "2022-03-28T05:09:37.087245Z",
          "start_time": "2022-03-28T05:09:37.066774Z"
        },
        "colab": {
          "base_uri": "https://localhost:8080/"
        },
        "id": "wZpCj4dt6IXC",
        "outputId": "f23140c2-b5cc-423a-bc02-942d9ada64b2"
      },
      "outputs": [
        {
          "output_type": "stream",
          "name": "stdout",
          "text": [
            "1 2\n",
            "3 4\n"
          ]
        }
      ],
      "source": [
        "from io import StringIO\n",
        "\n",
        "def move(position, direction):\n",
        "    x, y = position\n",
        "    if direction == 'L':\n",
        "        return x, y - 1\n",
        "    elif direction == 'R':\n",
        "        return x, y + 1\n",
        "    elif direction == 'U':\n",
        "        return x - 1, y\n",
        "    elif direction == 'D':\n",
        "        return x + 1, y\n",
        "\n",
        "def is_valid_move(position, n):\n",
        "    x, y = position\n",
        "    return 1 <= x <= n and 1 <= y <= n\n",
        "\n",
        "def solution():\n",
        "    n = int(input())\n",
        "    plans = input().strip().split()\n",
        "    position = (1, 1)\n",
        "    for direction in plans:\n",
        "        new_position = move(position, direction)\n",
        "        if is_valid_move(new_position, n):\n",
        "            position = new_position\n",
        "    print(position[0], position[1])\n",
        "\n",
        "## 입력 문자열\n",
        "input_str = \\\n",
        "\"\"\"\n",
        "5\n",
        "D D L R U U U\n",
        "\"\"\"\n",
        "\n",
        "## 문자열을 스트림으로 바꾸는 방법\n",
        "stream = StringIO(input_str.strip())\n",
        "input = stream.readline\n",
        "solution()\n",
        "\n",
        "## 입력 문자열\n",
        "input_str = \\\n",
        "\"\"\"\n",
        "5\n",
        "R R R U D D\n",
        "\"\"\"\n",
        "\n",
        "## 문자열을 스트림으로 바꾸는 방법\n",
        "stream = StringIO(input_str.strip())\n",
        "input = stream.readline\n",
        "solution()\n"
      ]
    },
    {
      "cell_type": "markdown",
      "metadata": {
        "id": "kPEBPV_O6IXD"
      },
      "source": [
        "## 문제3\n",
        "\n",
        "프로그래머스 문제\n",
        "https://programmers.co.kr/learn/courses/30/lessons/68644\n",
        "\n",
        "위 문제를 풀고 코드를 붙여 넣으세요.\n",
        "\n",
        "***결과***\n",
        "```\n",
        "[2, 3, 4, 5, 6, 7]\n",
        "[2, 5, 7, 9, 12]\n",
        "```\n",
        "\n"
      ]
    },
    {
      "cell_type": "code",
      "execution_count": 7,
      "metadata": {
        "ExecuteTime": {
          "end_time": "2022-03-28T05:16:03.718518Z",
          "start_time": "2022-03-28T05:16:03.713973Z"
        },
        "scrolled": true,
        "colab": {
          "base_uri": "https://localhost:8080/"
        },
        "id": "G6jFyPa46IXD",
        "outputId": "27607c22-8d94-46a4-85d8-793b3896e4f8"
      },
      "outputs": [
        {
          "output_type": "stream",
          "name": "stdout",
          "text": [
            "[2, 3, 4, 5, 6, 7]\n",
            "[2, 5, 7, 9, 12]\n"
          ]
        }
      ],
      "source": [
        "def solution(numbers):\n",
        "    answer = []\n",
        "    for i in range(len(numbers)):\n",
        "        for j in range(i+1, len(numbers)):\n",
        "            # 서로 다른 인덱스에 있는 두 개의 수를 더해서 answer에 추가\n",
        "            answer.append(numbers[i] + numbers[j])\n",
        "\n",
        "    # 중복된 수를 제거하고 오름차순으로 정렬\n",
        "    answer = sorted(list(set(answer)))\n",
        "\n",
        "    return answer\n",
        "\n",
        "\n",
        "#set함수 쓰기도 함\n",
        "print(solution([2,1,3,4,1]))\n",
        "print(solution([5,0,2,7]))"
      ]
    },
    {
      "cell_type": "markdown",
      "metadata": {
        "id": "cEBRfj6l6IXE"
      },
      "source": [
        "# 문제4\n",
        "\n",
        "문자열 재정렬\n",
        "\n",
        "알파벳 대문자와 숫자(0 ~ 9)로만 구성된 문자열이 입력으로 주어집니다. 이때 모든 알파벳을 오름차순으로 정렬하여 이어서 출력한 뒤에, 그 뒤에 모든 숫자를 더한 값을 이어서 출력합니다.\n",
        "예를 들어 K1KA5CB7이라는 값이 들어오면 ABCKK13을 출력합니다.\n",
        "\n",
        "***결과***\n",
        "```\n",
        "ABCKK6\n",
        "ACDK\n",
        "12\n",
        "```\n"
      ]
    },
    {
      "cell_type": "code",
      "execution_count": 25,
      "metadata": {
        "colab": {
          "base_uri": "https://localhost:8080/"
        },
        "id": "3VcMYPsS6IXE",
        "outputId": "d570cdb5-0845-479f-f254-2e54798d5bbe"
      },
      "outputs": [
        {
          "output_type": "stream",
          "name": "stdout",
          "text": [
            "ABCKK6\n",
            "ACDK\n",
            "12\n"
          ]
        }
      ],
      "source": [
        "from io import StringIO\n",
        "\n",
        "def solution():\n",
        "    data = input()  # 입력 받기\n",
        "    alphas = []\n",
        "    nums =[]\n",
        "    r = \"\"\n",
        "    for i in data:\n",
        "      if 0 <= ord(i)-ord('0') <= 9:\n",
        "        nums.append(int(i))\n",
        "      else:\n",
        "        alphas.append(i)\n",
        "    alphas.sort()\n",
        "    r += \"\".join(alphas)\n",
        "    if nums: #숫자가 한번이라도 나온 경우\n",
        "      r += str(sum(nums))\n",
        "\n",
        "    print(r)\n",
        "    pass\n",
        "\n",
        "\n",
        "\n",
        "## 입력 문자열\n",
        "input_str = \\\n",
        "\"\"\"\n",
        "K1KA5CB\n",
        "\"\"\"\n",
        "## 문자열을 스트림으로 바꿈\n",
        "stream = StringIO(input_str.strip())\n",
        "input = stream.readline\n",
        "solution()\n",
        "\n",
        "\n",
        "## 입력 문자열\n",
        "input_str = \\\n",
        "\"\"\"\n",
        "CDAK\n",
        "\"\"\"\n",
        "## 문자열을 스트림으로 바꿈\n",
        "stream = StringIO(input_str.strip())\n",
        "input = stream.readline\n",
        "solution()\n",
        "\n",
        "## 입력 문자열\n",
        "input_str = \\\n",
        "\"\"\"\n",
        "4251\n",
        "\"\"\"\n",
        "## 문자열을 스트림으로 바꿈\n",
        "stream = StringIO(input_str.strip())\n",
        "input = stream.readline\n",
        "solution()\n"
      ]
    }
  ],
  "metadata": {
    "kernelspec": {
      "display_name": "Python 3 (ipykernel)",
      "language": "python",
      "name": "python3"
    },
    "language_info": {
      "codemirror_mode": {
        "name": "ipython",
        "version": 3
      },
      "file_extension": ".py",
      "mimetype": "text/x-python",
      "name": "python",
      "nbconvert_exporter": "python",
      "pygments_lexer": "ipython3",
      "version": "3.9.13"
    },
    "colab": {
      "provenance": []
    }
  },
  "nbformat": 4,
  "nbformat_minor": 0
}