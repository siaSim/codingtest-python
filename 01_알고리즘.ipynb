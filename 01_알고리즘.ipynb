{
  "cells": [
    {
      "cell_type": "markdown",
      "metadata": {
        "id": "AntTo-3d19ds"
      },
      "source": [
        "# 파일 이름에서 '학번'을 자신의 학번으로, '이름'을 자신의 이름으로 고치시오."
      ]
    },
    {
      "cell_type": "markdown",
      "metadata": {
        "id": "61wl3Mjo19dt"
      },
      "source": [
        "## 문제1\n",
        "\n",
        "파라미터 a와 b의 합이 0.9 인지 확인하는 함수를 구현하시오.\n",
        "\n",
        "***결과***\n",
        "```\n",
        "True\n",
        "True\n",
        "True\n",
        "True\n",
        "```\n"
      ]
    },
    {
      "cell_type": "code",
      "execution_count": 12,
      "metadata": {
        "ExecuteTime": {
          "end_time": "2022-03-13T13:27:05.496138Z",
          "start_time": "2022-03-13T13:27:05.480265Z"
        },
        "scrolled": true,
        "colab": {
          "base_uri": "https://localhost:8080/"
        },
        "id": "1B1_jUsZ19du",
        "outputId": "1db2d61e-3071-45b0-e279-3e6f6b947599"
      },
      "outputs": [
        {
          "output_type": "stream",
          "name": "stdout",
          "text": [
            "True\n",
            "True\n",
            "True\n",
            "True\n"
          ]
        }
      ],
      "source": [
        "def check_seven(a, b):\n",
        "  # if a+b <= 0.9:\n",
        "  if round(a+b,5) == 0.9:\n",
        "  # if a+b == 0.9: 실수는 ==연산자를 사용하지 않는다.정확하게 표현하지 못하기 때문..\n",
        "    return True\n",
        "  else:\n",
        "    print(a+b)\n",
        "    return False\n",
        "    pass\n",
        "# 아래는 수정하지 마시오.\n",
        "print(check_seven(0.1, 0.8))\n",
        "print(check_seven(0.2, 0.7))\n",
        "print(check_seven(0.3, 0.6))\n",
        "print(check_seven(0.4, 0.5))"
      ]
    },
    {
      "cell_type": "markdown",
      "metadata": {
        "id": "IM16ufUW19dv"
      },
      "source": [
        "## 문제2\n",
        "\n",
        "구구단 중에서 특정 단을 출력하는 함수를 구현하시오.\n",
        "\n",
        "***결과***\n",
        "```\n",
        "4단\n",
        "4 x 1 =  4\n",
        "4 x 2 =  8\n",
        "4 x 3 =  12\n",
        "4 x 4 =  16\n",
        "4 x 5 =  20\n",
        "4 x 6 =  24\n",
        "4 x 7 =  28\n",
        "4 x 8 =  32\n",
        "4 x 9 =  36\n",
        "\n",
        "5단\n",
        "5 x 1 =  5\n",
        "5 x 2 =  10\n",
        "5 x 3 =  15\n",
        "5 x 4 =  20\n",
        "5 x 5 =  25\n",
        "5 x 6 =  30\n",
        "5 x 7 =  35\n",
        "5 x 8 =  40\n",
        "5 x 9 =  45\n",
        "```\n"
      ]
    },
    {
      "cell_type": "code",
      "execution_count": 9,
      "metadata": {
        "ExecuteTime": {
          "end_time": "2022-03-13T14:03:08.219587Z",
          "start_time": "2022-03-13T14:03:08.207267Z"
        },
        "scrolled": true,
        "colab": {
          "base_uri": "https://localhost:8080/"
        },
        "id": "NHiEAD_819dv",
        "outputId": "944cd72c-88fc-4290-c75e-8739cc38bc56"
      },
      "outputs": [
        {
          "output_type": "stream",
          "name": "stdout",
          "text": [
            "4단\n",
            "4 x 1 = 4\n",
            "4 x 2 = 8\n",
            "4 x 3 = 12\n",
            "4 x 4 = 16\n",
            "4 x 5 = 20\n",
            "4 x 6 = 24\n",
            "4 x 7 = 28\n",
            "4 x 8 = 32\n",
            "4 x 9 = 36\n",
            "\n",
            "5단\n",
            "5 x 1 = 5\n",
            "5 x 2 = 10\n",
            "5 x 3 = 15\n",
            "5 x 4 = 20\n",
            "5 x 5 = 25\n",
            "5 x 6 = 30\n",
            "5 x 7 = 35\n",
            "5 x 8 = 40\n",
            "5 x 9 = 45\n",
            "\n"
          ]
        }
      ],
      "source": [
        "def gugu(n):\n",
        "    print(f\"{n}단\")\n",
        "    for i in range(1, 10):\n",
        "      print(f\"{n} x {i} = {n*i}\")\n",
        "    print()\n",
        "    pass\n",
        "\n",
        "# 아래는 수정하지 마시오.\n",
        "gugu(4)\n",
        "gugu(5)"
      ]
    },
    {
      "cell_type": "markdown",
      "metadata": {
        "id": "kHOaO3Zn19dv"
      },
      "source": [
        "## 문제3\n",
        "\n",
        "파라미터 a와 b는 길이가 같은 숫자형 값을 가지고 있는 리스트들이다.\n",
        "두 리스트의 element wise product 결과를 리스트형태로 리턴하시오.\n",
        "\n",
        "***결과***\n",
        "```\n",
        "[4, 10, 18]\n",
        "[6, 24, 54]\n",
        "```\n"
      ]
    },
    {
      "cell_type": "code",
      "execution_count": 10,
      "metadata": {
        "ExecuteTime": {
          "end_time": "2022-03-13T14:03:39.777429Z",
          "start_time": "2022-03-13T14:03:39.765460Z"
        },
        "scrolled": true,
        "colab": {
          "base_uri": "https://localhost:8080/"
        },
        "id": "WX6iMBno19dv",
        "outputId": "0d6ae292-9bd1-4af3-945e-6e74c0079f27"
      },
      "outputs": [
        {
          "output_type": "stream",
          "name": "stdout",
          "text": [
            "[4, 10, 18]\n",
            "[6, 24, 54]\n"
          ]
        }
      ],
      "source": [
        "def list_product(a, b):\n",
        "    r = []\n",
        "    for i in range(len(a)):\n",
        "      # i : a의 인덱스\n",
        "      r.append (a[i] * b[i])\n",
        "    return r\n",
        "    pass\n",
        "\n",
        "# 아래는 수정하지 마시오.\n",
        "print(list_product([1,2,3], [4,5,6]))\n",
        "print(list_product([2,4,6], [3,6,9]))"
      ]
    },
    {
      "cell_type": "markdown",
      "metadata": {
        "id": "-Xl70mFn19dv"
      },
      "source": [
        "## 문제4\n",
        "\n",
        "프로그래머스 https://programmers.co.kr 에 가입하고\n",
        "\n",
        "아래 링크 문제를 풀고 성공하면 코드를 제출하시오.\n",
        "\n",
        "https://programmers.co.kr/learn/courses/30/lessons/86051\n",
        "\n",
        "![image.png](attachment:image.png)\n"
      ]
    },
    {
      "cell_type": "code",
      "execution_count": 14,
      "metadata": {
        "ExecuteTime": {
          "end_time": "2022-03-13T14:03:55.102674Z",
          "start_time": "2022-03-13T14:03:55.092701Z"
        },
        "colab": {
          "base_uri": "https://localhost:8080/"
        },
        "id": "inT7uCZZ19dv",
        "outputId": "9f17f672-150f-487e-b7be-ad4d2f96bafa"
      },
      "outputs": [
        {
          "output_type": "stream",
          "name": "stdout",
          "text": [
            "14\n",
            "6\n"
          ]
        }
      ],
      "source": [
        "def solution(numbers):\n",
        "    # s = 0\n",
        "    # for i in range(10):\n",
        "    #     if i not in numbers:\n",
        "    #         s+= i\n",
        "    # return s\n",
        "\n",
        "    return sum(range(10)) - sum(numbers)\n",
        "    pass\n",
        "\n",
        "print(solution([1,2,3,4,6,7,8,0]))\n",
        "print(solution([5,8,4,0,6,7,9]))\n",
        "# numbers의 크기가 9이하이기 때문에 빅오표기법 O(1)이다."
      ]
    }
  ],
  "metadata": {
    "kernelspec": {
      "display_name": "Python 3 (ipykernel)",
      "language": "python",
      "name": "python3"
    },
    "language_info": {
      "codemirror_mode": {
        "name": "ipython",
        "version": 3
      },
      "file_extension": ".py",
      "mimetype": "text/x-python",
      "name": "python",
      "nbconvert_exporter": "python",
      "pygments_lexer": "ipython3",
      "version": "3.9.13"
    },
    "colab": {
      "provenance": []
    }
  },
  "nbformat": 4,
  "nbformat_minor": 0
}