{
  "cells": [
    {
      "cell_type": "code",
      "execution_count": 1,
      "metadata": {
        "ExecuteTime": {
          "end_time": "2022-05-29T05:30:06.593045Z",
          "start_time": "2022-05-29T05:30:06.578056Z"
        },
        "colab": {
          "base_uri": "https://localhost:8080/",
          "height": 17
        },
        "id": "CojLFbephxUO",
        "outputId": "ebedc8e4-4d47-4684-a4b4-779b73ca67db"
      },
      "outputs": [
        {
          "output_type": "display_data",
          "data": {
            "text/plain": [
              "<IPython.core.display.HTML object>"
            ],
            "text/html": [
              "<style>.container { width:100% !important; }</style>"
            ]
          },
          "metadata": {}
        },
        {
          "output_type": "display_data",
          "data": {
            "text/plain": [
              "<IPython.core.display.HTML object>"
            ],
            "text/html": [
              "<style>\n",
              "div.CodeMirror, div.CodeMirror pre, div.CodeMirror-code,\n",
              "div.output_area pre, div.output_wrapper pre,\n",
              ".text_cell_render, .text_cell_render *\n",
              "{ font-family: Consolas; font-size: 15pt; line-height: 140%;}\n",
              "</style>"
            ]
          },
          "metadata": {}
        }
      ],
      "source": [
        "from IPython.display import display, HTML, Markdown\n",
        "display(HTML(\"<style>.container { width:100% !important; }</style>\"))\n",
        "display(HTML(\"\"\"<style>\n",
        "div.CodeMirror, div.CodeMirror pre, div.CodeMirror-code,\n",
        "div.output_area pre, div.output_wrapper pre,\n",
        ".text_cell_render, .text_cell_render *\n",
        "{ font-family: Consolas; font-size: 15pt; line-height: 140%;}\n",
        "</style>\"\"\"))"
      ]
    },
    {
      "cell_type": "markdown",
      "metadata": {
        "id": "h3hN0NdFhxUR"
      },
      "source": [
        "# 파일 이름에서 '이름'을 자신의 이름으로 고치시오.\n",
        "# 제출 후 이 파일을 삭제하세요."
      ]
    },
    {
      "cell_type": "markdown",
      "metadata": {
        "id": "8h1yoSfWhxUS"
      },
      "source": [
        "# 문제1\n",
        "\n",
        "아래 사이트에서 문제를 풀고 코드를 붙여넣기 하시오.\n",
        "\n",
        "https://www.acmicpc.net/problem/1753\n",
        "\n",
        "***실행결과***\n",
        "```\n",
        "0\n",
        "2\n",
        "3\n",
        "7\n",
        "INF\n",
        "```\n"
      ]
    },
    {
      "cell_type": "code",
      "source": [
        "from io import StringIO\n",
        "import heapq\n",
        "import sys\n",
        "# 아래는 수정하지 마시오.\n",
        "input_str = \\\n",
        "\"\"\"\n",
        "5 6\n",
        "1\n",
        "5 1 1\n",
        "1 2 2\n",
        "1 3 3\n",
        "2 3 4\n",
        "2 4 5\n",
        "3 4 6\n",
        "\"\"\"\n",
        "stream = StringIO(input_str.strip())\n",
        "input = stream.readline\n",
        "\n",
        "INF = int(1e9)\n",
        "\n",
        "def dijkstra(start):\n",
        "    q = []\n",
        "    heapq.heappush(q, (0, start))\n",
        "    distance[start] = 0\n",
        "\n",
        "    while q:\n",
        "        dist, now = heapq.heappop(q)\n",
        "\n",
        "        if distance[now] < dist:\n",
        "            continue\n",
        "\n",
        "        # 현재 노드와 연결된 인접 노드 확인\n",
        "        for i in graph[now]:\n",
        "            cost = dist + i[1]\n",
        "            if cost < distance[i[0]]:\n",
        "                distance[i[0]] = cost\n",
        "                heapq.heappush(q, (cost, i[0]))\n",
        "\n",
        "# V == 5일 때 1~5까지 노드가 있는 것임.\n",
        "V, E = map(int, input().split())\n",
        "\n",
        "snode = int(input().strip())  # 시작 노드\n",
        "\n",
        "graph = [[] for _ in range(V + 1)]\n",
        "distance = [INF] * (V + 1)  # 최단 거리 테이블\n",
        "\n",
        "# 연결 정보 입력\n",
        "for _ in range(E):\n",
        "    u, v, w = map(int, input().split())\n",
        "    graph[u].append((v, w))\n",
        "\n",
        "dijkstra(snode)\n",
        "\n",
        "# i번째 줄에 i번 정점으로의 최단 경로의 경로값을 출력\n",
        "for i in range(1, V + 1):\n",
        "    if distance[i] == INF:\n",
        "        print(\"INF\")\n",
        "    else:\n",
        "        print(distance[i])\n"
      ],
      "metadata": {
        "colab": {
          "base_uri": "https://localhost:8080/"
        },
        "id": "j7k3hyuSiDnZ",
        "outputId": "25687227-2bd1-404f-99c0-db448afc96c4"
      },
      "execution_count": 7,
      "outputs": [
        {
          "output_type": "stream",
          "name": "stdout",
          "text": [
            "0\n",
            "2\n",
            "3\n",
            "7\n",
            "INF\n"
          ]
        }
      ]
    }
  ],
  "metadata": {
    "kernelspec": {
      "display_name": "Python 3 (ipykernel)",
      "language": "python",
      "name": "python3"
    },
    "language_info": {
      "codemirror_mode": {
        "name": "ipython",
        "version": 3
      },
      "file_extension": ".py",
      "mimetype": "text/x-python",
      "name": "python",
      "nbconvert_exporter": "python",
      "pygments_lexer": "ipython3",
      "version": "3.10.9"
    },
    "colab": {
      "provenance": []
    }
  },
  "nbformat": 4,
  "nbformat_minor": 0
}