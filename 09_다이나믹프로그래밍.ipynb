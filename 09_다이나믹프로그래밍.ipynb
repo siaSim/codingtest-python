{
 "cells": [
  {
   "cell_type": "code",
   "execution_count": 1,
   "metadata": {
    "ExecuteTime": {
     "end_time": "2019-09-10T04:00:05.497613Z",
     "start_time": "2019-09-10T04:00:05.491632Z"
    }
   },
   "outputs": [
    {
     "name": "stderr",
     "output_type": "stream",
     "text": [
      "/var/folders/3n/gh5r5w5j7y12zyx0mjb5yhzm0000gn/T/ipykernel_35587/1988860034.py:1: DeprecationWarning: Importing display from IPython.core.display is deprecated since IPython 7.14, please import from IPython display\n",
      "  from IPython.core.display import display, HTML\n"
     ]
    },
    {
     "data": {
      "text/html": [
       "<style>.container { width:95% !important; }</style>"
      ],
      "text/plain": [
       "<IPython.core.display.HTML object>"
      ]
     },
     "metadata": {},
     "output_type": "display_data"
    },
    {
     "data": {
      "text/html": [
       "<style>.input_area pre {font-family: Consolas; font-size: 15pt; line-height: 140%; font-weight: bold}</style>"
      ],
      "text/plain": [
       "<IPython.core.display.HTML object>"
      ]
     },
     "metadata": {},
     "output_type": "display_data"
    },
    {
     "data": {
      "text/html": [
       "<style>.output_area pre {font-family: Consolas; font-size: 15pt; line-height: 140%;}</style>"
      ],
      "text/plain": [
       "<IPython.core.display.HTML object>"
      ]
     },
     "metadata": {},
     "output_type": "display_data"
    }
   ],
   "source": [
    "from IPython.core.display import display, HTML\n",
    "display(HTML(\"<style>.container { width:95% !important; }</style>\"))\n",
    "display(HTML(\"<style>.input_area pre {font-family: Consolas; font-size: 15pt; line-height: 140%; font-weight: bold}</style>\"))\n",
    "display(HTML(\"<style>.output_area pre {font-family: Consolas; font-size: 15pt; line-height: 140%;}</style>\"))\n"
   ]
  },
  {
   "cell_type": "markdown",
   "metadata": {},
   "source": [
    "# 파일 이름에서 '학번'을 자신의 학번으로, '이름'을 자신의 이름으로 고치시오."
   ]
  },
  {
   "cell_type": "markdown",
   "metadata": {},
   "source": [
    "# 문제1\n",
    "\n",
    "바텀업(DP 테이블) 방식으로 피보나치 수열을 항을 구하는 함수를 작성하시오.\n",
    "\n",
    "- 파라미터\n",
    "    - x: 피보나치 수열의 항 번호\n",
    "- 리턴\n",
    "    - 피보나치 수열의 항 값\n",
    "\n",
    "***결과***\n",
    "```\n",
    "2\n",
    "3\n",
    "9227465\n",
    "```"
   ]
  },
  {
   "cell_type": "code",
   "execution_count": 2,
   "metadata": {
    "ExecuteTime": {
     "end_time": "2022-05-23T04:55:04.004656Z",
     "start_time": "2022-05-23T04:55:03.987680Z"
    }
   },
   "outputs": [
    {
     "name": "stdout",
     "output_type": "stream",
     "text": [
      "2\n",
      "3\n",
      "9227465\n"
     ]
    }
   ],
   "source": [
    "def fibo_bottomup(x):\n",
    "    if x == 0:\n",
    "        return 0\n",
    "    elif x == 1:\n",
    "        return 1\n",
    "\n",
    "    dp = [0] * (x + 1)\n",
    "    dp[0] = 0\n",
    "    dp[1] = 1\n",
    "\n",
    "    for i in range(2, x + 1):\n",
    "        dp[i] = dp[i-1] + dp[i-2]\n",
    "\n",
    "    return dp[x]\n",
    "\n",
    "# 아래는 수정하지 마시오.\n",
    "print(fibo_bottomup(3))\n",
    "print(fibo_bottomup(4))\n",
    "print(fibo_bottomup(35))\n"
   ]
  },
  {
   "cell_type": "markdown",
   "metadata": {},
   "source": [
    "# 문제2\n",
    "\n",
    "```1로 만들기``` 문제풀이를 함수 형태로 구현하시오.\n",
    "\n",
    "```\n",
    "정수 n이 주어졌을 때, 정수 n에 사용할 수 있는 연산은 다음과 같이 4가지입니다.\n",
    "    - n이 5로 나누어 떨어지면, 5로 나눕니다.\n",
    "    - n이 3으로 나누어 떨어지면, 3으로 나눕니다.\n",
    "    - n이 2로 나누어 떨어지면, 2로 나눕니다.\n",
    "    - n에서 1을 뺍니다.\n",
    "\n",
    "정수 n이 주어졌을 때, 연산 4개를 적절히 사용해서 값을 1로 만들고자 합니다. 연산을 사용하는 횟수의 최솟값을 리턴하시오.\n",
    "\n",
    "```\n",
    "\n",
    "- parameter\n",
    "    - n: 정수 (1<= n <= 30000)\n",
    "- return\n",
    "    - 연산을 하는 횟수의 최소값\n",
    "\n",
    "***결과***\n",
    "```\n",
    "3\n",
    "6\n",
    "```\n"
   ]
  },
  {
   "cell_type": "code",
   "execution_count": 3,
   "metadata": {
    "ExecuteTime": {
     "end_time": "2022-05-23T05:04:33.012173Z",
     "start_time": "2022-05-23T05:04:33.001174Z"
    }
   },
   "outputs": [
    {
     "name": "stdout",
     "output_type": "stream",
     "text": [
      "3\n",
      "6\n"
     ]
    }
   ],
   "source": [
    "def make_one(n):\n",
    "    # DP 테이블 초기화\n",
    "    dp = [0] * (n + 1)\n",
    "\n",
    "    # DP 수행\n",
    "    for i in range(2, n + 1):\n",
    "        # 현재 수에서 1을 빼는 경우\n",
    "        dp[i] = dp[i - 1] + 1\n",
    "        \n",
    "        # 현재 수가 2로 나누어 떨어지는 경우\n",
    "        if i % 2 == 0:\n",
    "            dp[i] = min(dp[i], dp[i // 2] + 1)\n",
    "        \n",
    "        # 현재 수가 3으로 나누어 떨어지는 경우\n",
    "        if i % 3 == 0:\n",
    "            dp[i] = min(dp[i], dp[i // 3] + 1)\n",
    "        \n",
    "        # 현재 수가 5로 나누어 떨어지는 경우\n",
    "        if i % 5 == 0:\n",
    "            dp[i] = min(dp[i], dp[i // 5] + 1)\n",
    "\n",
    "    return dp[n]\n",
    "\n",
    "# 아래는 수정하지 마시오.\n",
    "print(make_one(26))\n",
    "print(make_one(111))\n"
   ]
  }
 ],
 "metadata": {
  "kernelspec": {
   "display_name": "Python 3 (ipykernel)",
   "language": "python",
   "name": "python3"
  },
  "language_info": {
   "codemirror_mode": {
    "name": "ipython",
    "version": 3
   },
   "file_extension": ".py",
   "mimetype": "text/x-python",
   "name": "python",
   "nbconvert_exporter": "python",
   "pygments_lexer": "ipython3",
   "version": "3.10.9"
  }
 },
 "nbformat": 4,
 "nbformat_minor": 2
}
